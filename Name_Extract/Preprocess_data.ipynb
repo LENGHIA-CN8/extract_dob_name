{
 "cells": [
  {
   "cell_type": "code",
   "execution_count": 4,
   "id": "638c6438-70df-44d9-8d3c-b908bb7c1b2d",
   "metadata": {
    "tags": []
   },
   "outputs": [],
   "source": [
    "import pandas as pd"
   ]
  },
  {
   "cell_type": "code",
   "execution_count": 81,
   "id": "c14dc0f6-96dc-4251-9681-6d8121fd608c",
   "metadata": {
    "tags": []
   },
   "outputs": [],
   "source": [
    "train_data = pd.read_csv('./UIT-ViNames-Dataset/UIT-ViNames/UIT-ViNames-Test.csv')"
   ]
  },
  {
   "cell_type": "code",
   "execution_count": 82,
   "id": "d7a740e8-32ff-43fd-b61b-78079b28decb",
   "metadata": {
    "tags": []
   },
   "outputs": [
    {
     "data": {
      "text/html": [
       "<div>\n",
       "<style scoped>\n",
       "    .dataframe tbody tr th:only-of-type {\n",
       "        vertical-align: middle;\n",
       "    }\n",
       "\n",
       "    .dataframe tbody tr th {\n",
       "        vertical-align: top;\n",
       "    }\n",
       "\n",
       "    .dataframe thead th {\n",
       "        text-align: right;\n",
       "    }\n",
       "</style>\n",
       "<table border=\"1\" class=\"dataframe\">\n",
       "  <thead>\n",
       "    <tr style=\"text-align: right;\">\n",
       "      <th></th>\n",
       "      <th>Full_Names</th>\n",
       "      <th>Gender</th>\n",
       "    </tr>\n",
       "  </thead>\n",
       "  <tbody>\n",
       "    <tr>\n",
       "      <th>0</th>\n",
       "      <td>Nguyễn Văn Tiến</td>\n",
       "      <td>1</td>\n",
       "    </tr>\n",
       "    <tr>\n",
       "      <th>1</th>\n",
       "      <td>Vũ Minh Nhật</td>\n",
       "      <td>1</td>\n",
       "    </tr>\n",
       "    <tr>\n",
       "      <th>2</th>\n",
       "      <td>Nguyễn Ngọc Thành</td>\n",
       "      <td>1</td>\n",
       "    </tr>\n",
       "    <tr>\n",
       "      <th>3</th>\n",
       "      <td>Lê Văn Tuấn</td>\n",
       "      <td>1</td>\n",
       "    </tr>\n",
       "    <tr>\n",
       "      <th>4</th>\n",
       "      <td>Nguyễn Duy Khánh</td>\n",
       "      <td>1</td>\n",
       "    </tr>\n",
       "  </tbody>\n",
       "</table>\n",
       "</div>"
      ],
      "text/plain": [
       "          Full_Names  Gender\n",
       "0    Nguyễn Văn Tiến       1\n",
       "1       Vũ Minh Nhật       1\n",
       "2  Nguyễn Ngọc Thành       1\n",
       "3        Lê Văn Tuấn       1\n",
       "4   Nguyễn Duy Khánh       1"
      ]
     },
     "execution_count": 82,
     "metadata": {},
     "output_type": "execute_result"
    }
   ],
   "source": [
    "train_data.head()"
   ]
  },
  {
   "cell_type": "code",
   "execution_count": 83,
   "id": "f5ffbf2e-cdbf-47a4-9ad8-a7e3a808578f",
   "metadata": {
    "tags": []
   },
   "outputs": [
    {
     "name": "stdout",
     "output_type": "stream",
     "text": [
      "<class 'pandas.core.frame.DataFrame'>\n",
      "RangeIndex: 5370 entries, 0 to 5369\n",
      "Data columns (total 2 columns):\n",
      " #   Column      Non-Null Count  Dtype \n",
      "---  ------      --------------  ----- \n",
      " 0   Full_Names  5370 non-null   object\n",
      " 1   Gender      5370 non-null   int64 \n",
      "dtypes: int64(1), object(1)\n",
      "memory usage: 84.0+ KB\n"
     ]
    }
   ],
   "source": [
    "train_data.info()"
   ]
  },
  {
   "cell_type": "code",
   "execution_count": 84,
   "id": "e4ef1ae3-0254-4f6f-a57a-fe98f5365d8e",
   "metadata": {
    "tags": []
   },
   "outputs": [
    {
     "data": {
      "text/html": [
       "<div>\n",
       "<style scoped>\n",
       "    .dataframe tbody tr th:only-of-type {\n",
       "        vertical-align: middle;\n",
       "    }\n",
       "\n",
       "    .dataframe tbody tr th {\n",
       "        vertical-align: top;\n",
       "    }\n",
       "\n",
       "    .dataframe thead th {\n",
       "        text-align: right;\n",
       "    }\n",
       "</style>\n",
       "<table border=\"1\" class=\"dataframe\">\n",
       "  <thead>\n",
       "    <tr style=\"text-align: right;\">\n",
       "      <th></th>\n",
       "      <th>Full_Names</th>\n",
       "      <th>Gender</th>\n",
       "    </tr>\n",
       "  </thead>\n",
       "  <tbody>\n",
       "  </tbody>\n",
       "</table>\n",
       "</div>"
      ],
      "text/plain": [
       "Empty DataFrame\n",
       "Columns: [Full_Names, Gender]\n",
       "Index: []"
      ]
     },
     "execution_count": 84,
     "metadata": {},
     "output_type": "execute_result"
    }
   ],
   "source": [
    "train_data[train_data['Full_Names'].str.contains('nghĩa')]"
   ]
  },
  {
   "cell_type": "code",
   "execution_count": 85,
   "id": "156e1a7a-49be-4535-9363-c5c207bf4fa5",
   "metadata": {
    "tags": []
   },
   "outputs": [
    {
     "data": {
      "text/html": [
       "<div>\n",
       "<style scoped>\n",
       "    .dataframe tbody tr th:only-of-type {\n",
       "        vertical-align: middle;\n",
       "    }\n",
       "\n",
       "    .dataframe tbody tr th {\n",
       "        vertical-align: top;\n",
       "    }\n",
       "\n",
       "    .dataframe thead th {\n",
       "        text-align: right;\n",
       "    }\n",
       "</style>\n",
       "<table border=\"1\" class=\"dataframe\">\n",
       "  <thead>\n",
       "    <tr style=\"text-align: right;\">\n",
       "      <th></th>\n",
       "      <th>Full_Names</th>\n",
       "      <th>Gender</th>\n",
       "    </tr>\n",
       "  </thead>\n",
       "  <tbody>\n",
       "    <tr>\n",
       "      <th>0</th>\n",
       "      <td>nguyễn văn tiến</td>\n",
       "      <td>1</td>\n",
       "    </tr>\n",
       "    <tr>\n",
       "      <th>1</th>\n",
       "      <td>vũ minh nhật</td>\n",
       "      <td>1</td>\n",
       "    </tr>\n",
       "    <tr>\n",
       "      <th>2</th>\n",
       "      <td>nguyễn ngọc thành</td>\n",
       "      <td>1</td>\n",
       "    </tr>\n",
       "    <tr>\n",
       "      <th>3</th>\n",
       "      <td>lê văn tuấn</td>\n",
       "      <td>1</td>\n",
       "    </tr>\n",
       "    <tr>\n",
       "      <th>4</th>\n",
       "      <td>nguyễn duy khánh</td>\n",
       "      <td>1</td>\n",
       "    </tr>\n",
       "  </tbody>\n",
       "</table>\n",
       "</div>"
      ],
      "text/plain": [
       "          Full_Names  Gender\n",
       "0    nguyễn văn tiến       1\n",
       "1       vũ minh nhật       1\n",
       "2  nguyễn ngọc thành       1\n",
       "3        lê văn tuấn       1\n",
       "4   nguyễn duy khánh       1"
      ]
     },
     "execution_count": 85,
     "metadata": {},
     "output_type": "execute_result"
    }
   ],
   "source": [
    "train_data.Full_Names = train_data.Full_Names.str.lower()\n",
    "train_data.head()"
   ]
  },
  {
   "cell_type": "code",
   "execution_count": 86,
   "id": "66651c36-0695-44f1-931c-b564bc874600",
   "metadata": {
    "tags": []
   },
   "outputs": [],
   "source": [
    "stop_word = ['ạ','chị','là','anh','thì','không','mình','có','cái','dạ','vâng','vầng','bên','ờ','rồi','cho','một','năm','ừ','ơ','à', 'mình', 'tên']"
   ]
  },
  {
   "cell_type": "code",
   "execution_count": 87,
   "id": "cfaab564-81bb-43e0-8c26-3547c4afd319",
   "metadata": {
    "tags": []
   },
   "outputs": [
    {
     "data": {
      "text/plain": [
       "0      nguyễn văn tiến\n",
       "1         vũ minh nhật\n",
       "2    nguyễn ngọc thành\n",
       "3          lê văn tuấn\n",
       "4     nguyễn duy khánh\n",
       "Name: Full_Names, dtype: object"
      ]
     },
     "execution_count": 87,
     "metadata": {},
     "output_type": "execute_result"
    }
   ],
   "source": [
    "full_names = train_data['Full_Names'].copy()\n",
    "full_names[:5]"
   ]
  },
  {
   "cell_type": "code",
   "execution_count": null,
   "id": "16332790-ff91-4b4f-a622-d94b28f54015",
   "metadata": {},
   "outputs": [],
   "source": [
    "def random_split(lst, num_parts):\n",
    "    random.shuffle(lst)  # randomize the order of elements\n",
    "    split_points = sorted(random.sample(range(1, len(lst)), num_parts - 1))\n",
    "    splits = [lst[i:j] for i, j in zip([0] + split_points, split_points + [None])]\n",
    "    return splits\n",
    "\n",
    "def add_between_word(name, chose_words):\n",
    "    \n",
    "def add_words(name):\n",
    "    list_part = \n",
    "    "
   ]
  },
  {
   "cell_type": "code",
   "execution_count": 12,
   "id": "b2ba9c0f-d605-4dc5-8bd8-19387848848f",
   "metadata": {
    "tags": []
   },
   "outputs": [
    {
     "data": {
      "text/plain": [
       "'hay là'"
      ]
     },
     "execution_count": 12,
     "metadata": {},
     "output_type": "execute_result"
    }
   ],
   "source": [
    "import re\n",
    "\n",
    "stop_words = ['ừ','ơ','à','ờ','ạ']\n",
    "pattern = r'\\b(?:' + '|'.join(stop_words) + r')\\b'\n",
    "re.sub(pattern, '', 'hay là')"
   ]
  },
  {
   "cell_type": "code",
   "execution_count": 89,
   "id": "85e8e439-53d7-46d3-830e-18acc9eb8808",
   "metadata": {
    "tags": []
   },
   "outputs": [
    {
     "name": "stdout",
     "output_type": "stream",
     "text": [
      "0    nguyễn văn tiến thì dạ bên không cho\n",
      "1                   năm vũ minh nhật vầng\n",
      "2           nguyễn ngọc thành bên cái chị\n",
      "3                  cho vầng ừ lê văn tuấn\n",
      "4             nguyễn duy khánh rồi ừ là ạ\n",
      "Name: Full_Names, dtype: object\n"
     ]
    }
   ],
   "source": [
    "min_words = 2\n",
    "max_words = 5\n",
    "\n",
    "for i, name in enumerate(full_names):\n",
    "    num_words = random.randint(min_words, max_words)\n",
    "    added_words = random.sample(stop_word, num_words)\n",
    "    position = random.choice(['head', 'tail', 'h-t', 'bt'])\n",
    "    \n",
    "    if position == 'head':\n",
    "        full_names[i] = ' '.join(added_words + name.split())\n",
    "    elif position == 'tail':\n",
    "        full_names[i] = ' '.join(name.split() + added_words)\n",
    "    elif position == 'h-t':\n",
    "        head_words = added_words[:num_words//2]\n",
    "        tail_words = added_words[num_words//2:]\n",
    "        full_names[i] = ' '.join(head_words + name.split() + tail_words)\n",
    "    else:\n",
    "        \n",
    "\n",
    "print(full_names[:5])"
   ]
  },
  {
   "cell_type": "code",
   "execution_count": 90,
   "id": "0bc611cf-5296-4f09-8db4-a8755e894106",
   "metadata": {
    "tags": []
   },
   "outputs": [
    {
     "data": {
      "text/plain": [
       "0         nguyễn văn tiến thì dạ bên không cho\n",
       "1                        năm vũ minh nhật vầng\n",
       "2                nguyễn ngọc thành bên cái chị\n",
       "3                       cho vầng ừ lê văn tuấn\n",
       "4                  nguyễn duy khánh rồi ừ là ạ\n",
       "                         ...                  \n",
       "5365            ờ ừ đoàn thị bảo thu chị tên ạ\n",
       "5366                cái có ôn hoa thu dạ tên à\n",
       "5367     nguyễn thị huỳnh như à mình năm cái ừ\n",
       "5368    có dạ một cho rồi nguyễn thị hồng phúc\n",
       "5369          vâng một anh bên ờ dương mỹ uyên\n",
       "Name: Full_Names, Length: 5370, dtype: object"
      ]
     },
     "execution_count": 90,
     "metadata": {},
     "output_type": "execute_result"
    }
   ],
   "source": [
    "full_names"
   ]
  },
  {
   "cell_type": "code",
   "execution_count": 91,
   "id": "443df5a6-bb01-4883-9ce5-55bdaa037ffd",
   "metadata": {
    "tags": []
   },
   "outputs": [
    {
     "data": {
      "text/html": [
       "<div>\n",
       "<style scoped>\n",
       "    .dataframe tbody tr th:only-of-type {\n",
       "        vertical-align: middle;\n",
       "    }\n",
       "\n",
       "    .dataframe tbody tr th {\n",
       "        vertical-align: top;\n",
       "    }\n",
       "\n",
       "    .dataframe thead th {\n",
       "        text-align: right;\n",
       "    }\n",
       "</style>\n",
       "<table border=\"1\" class=\"dataframe\">\n",
       "  <thead>\n",
       "    <tr style=\"text-align: right;\">\n",
       "      <th></th>\n",
       "      <th>Full_Names</th>\n",
       "      <th>Gender</th>\n",
       "      <th>sentence</th>\n",
       "    </tr>\n",
       "  </thead>\n",
       "  <tbody>\n",
       "    <tr>\n",
       "      <th>0</th>\n",
       "      <td>nguyễn văn tiến</td>\n",
       "      <td>1</td>\n",
       "      <td>nguyễn văn tiến thì dạ bên không cho</td>\n",
       "    </tr>\n",
       "    <tr>\n",
       "      <th>1</th>\n",
       "      <td>vũ minh nhật</td>\n",
       "      <td>1</td>\n",
       "      <td>năm vũ minh nhật vầng</td>\n",
       "    </tr>\n",
       "    <tr>\n",
       "      <th>2</th>\n",
       "      <td>nguyễn ngọc thành</td>\n",
       "      <td>1</td>\n",
       "      <td>nguyễn ngọc thành bên cái chị</td>\n",
       "    </tr>\n",
       "    <tr>\n",
       "      <th>3</th>\n",
       "      <td>lê văn tuấn</td>\n",
       "      <td>1</td>\n",
       "      <td>cho vầng ừ lê văn tuấn</td>\n",
       "    </tr>\n",
       "    <tr>\n",
       "      <th>4</th>\n",
       "      <td>nguyễn duy khánh</td>\n",
       "      <td>1</td>\n",
       "      <td>nguyễn duy khánh rồi ừ là ạ</td>\n",
       "    </tr>\n",
       "  </tbody>\n",
       "</table>\n",
       "</div>"
      ],
      "text/plain": [
       "          Full_Names  Gender                              sentence\n",
       "0    nguyễn văn tiến       1  nguyễn văn tiến thì dạ bên không cho\n",
       "1       vũ minh nhật       1                 năm vũ minh nhật vầng\n",
       "2  nguyễn ngọc thành       1         nguyễn ngọc thành bên cái chị\n",
       "3        lê văn tuấn       1                cho vầng ừ lê văn tuấn\n",
       "4   nguyễn duy khánh       1           nguyễn duy khánh rồi ừ là ạ"
      ]
     },
     "execution_count": 91,
     "metadata": {},
     "output_type": "execute_result"
    }
   ],
   "source": [
    "train_data['sentence'] = full_names\n",
    "train_data.head()"
   ]
  },
  {
   "cell_type": "code",
   "execution_count": 92,
   "id": "7298bc56-1056-4a45-a288-12a3144aeb9f",
   "metadata": {
    "tags": []
   },
   "outputs": [],
   "source": [
    "train_data.to_csv('./UIT-ViNames-Dataset/UIT-ViNames/Test.csv', index = False)"
   ]
  },
  {
   "cell_type": "markdown",
   "id": "1bf868ba-7e64-4fe7-a496-39b8d9675f1b",
   "metadata": {},
   "source": [
    "## Create null sentence "
   ]
  },
  {
   "cell_type": "code",
   "execution_count": 1,
   "id": "fe5c23a9-7f40-4d68-b556-073a216faa96",
   "metadata": {
    "tags": []
   },
   "outputs": [],
   "source": [
    "import random\n",
    "\n",
    "words = ['ạ','chị','là','anh','thì','không','mình','có','cái','dạ','vâng','vầng','bên','ờ','rồi','cho','một','năm','ừ','ơ','à', 'mình', 'tên']\n",
    "\n",
    "sentences = []\n",
    "\n",
    "for _ in range(1000):\n",
    "    sentence_length = random.randint(5, 10)  # Define sentence length between 5 and 10 words\n",
    "    sentence = \" \".join(random.choice(words) for _ in range(sentence_length))\n",
    "    sentences.append(sentence)"
   ]
  },
  {
   "cell_type": "code",
   "execution_count": 2,
   "id": "adbddd48-8bff-48ea-b3f7-abbd2da46804",
   "metadata": {
    "tags": []
   },
   "outputs": [
    {
     "data": {
      "text/plain": [
       "1000"
      ]
     },
     "execution_count": 2,
     "metadata": {},
     "output_type": "execute_result"
    }
   ],
   "source": [
    "len(sentences)"
   ]
  },
  {
   "cell_type": "code",
   "execution_count": 3,
   "id": "3ccd1ea1-054c-4ca1-ab2a-6ed963dca071",
   "metadata": {
    "tags": []
   },
   "outputs": [
    {
     "data": {
      "text/plain": [
       "['là dạ ừ là là',\n",
       " 'là anh mình năm có vâng ơ năm',\n",
       " 'vầng cho rồi tên anh ơ thì anh bên dạ',\n",
       " 'thì ơ à rồi không',\n",
       " 'tên mình một rồi rồi vầng tên vâng vầng',\n",
       " 'một dạ mình à vâng',\n",
       " 'cho cái một là bên',\n",
       " 'bên cho thì mình ừ mình là tên không',\n",
       " 'ơ vâng không mình mình cho tên',\n",
       " 'vâng không năm có thì vâng ơ có năm vâng']"
      ]
     },
     "execution_count": 3,
     "metadata": {},
     "output_type": "execute_result"
    }
   ],
   "source": [
    "sentences[:10]"
   ]
  },
  {
   "cell_type": "code",
   "execution_count": 7,
   "id": "e316b250-0e90-483c-9e0b-88e35dffb544",
   "metadata": {
    "tags": []
   },
   "outputs": [
    {
     "data": {
      "text/html": [
       "<div>\n",
       "<style scoped>\n",
       "    .dataframe tbody tr th:only-of-type {\n",
       "        vertical-align: middle;\n",
       "    }\n",
       "\n",
       "    .dataframe tbody tr th {\n",
       "        vertical-align: top;\n",
       "    }\n",
       "\n",
       "    .dataframe thead th {\n",
       "        text-align: right;\n",
       "    }\n",
       "</style>\n",
       "<table border=\"1\" class=\"dataframe\">\n",
       "  <thead>\n",
       "    <tr style=\"text-align: right;\">\n",
       "      <th></th>\n",
       "      <th>sentence</th>\n",
       "      <th>Full_Names</th>\n",
       "    </tr>\n",
       "  </thead>\n",
       "  <tbody>\n",
       "    <tr>\n",
       "      <th>0</th>\n",
       "      <td>là dạ ừ là là</td>\n",
       "      <td>None</td>\n",
       "    </tr>\n",
       "    <tr>\n",
       "      <th>1</th>\n",
       "      <td>là anh mình năm có vâng ơ năm</td>\n",
       "      <td>None</td>\n",
       "    </tr>\n",
       "    <tr>\n",
       "      <th>2</th>\n",
       "      <td>vầng cho rồi tên anh ơ thì anh bên dạ</td>\n",
       "      <td>None</td>\n",
       "    </tr>\n",
       "    <tr>\n",
       "      <th>3</th>\n",
       "      <td>thì ơ à rồi không</td>\n",
       "      <td>None</td>\n",
       "    </tr>\n",
       "    <tr>\n",
       "      <th>4</th>\n",
       "      <td>tên mình một rồi rồi vầng tên vâng vầng</td>\n",
       "      <td>None</td>\n",
       "    </tr>\n",
       "    <tr>\n",
       "      <th>...</th>\n",
       "      <td>...</td>\n",
       "      <td>...</td>\n",
       "    </tr>\n",
       "    <tr>\n",
       "      <th>995</th>\n",
       "      <td>có thì năm một năm chị</td>\n",
       "      <td>None</td>\n",
       "    </tr>\n",
       "    <tr>\n",
       "      <th>996</th>\n",
       "      <td>không anh có ờ bên vầng tên không</td>\n",
       "      <td>None</td>\n",
       "    </tr>\n",
       "    <tr>\n",
       "      <th>997</th>\n",
       "      <td>bên ờ mình có tên thì không không một cái</td>\n",
       "      <td>None</td>\n",
       "    </tr>\n",
       "    <tr>\n",
       "      <th>998</th>\n",
       "      <td>có ơ ơ bên vầng ờ không rồi</td>\n",
       "      <td>None</td>\n",
       "    </tr>\n",
       "    <tr>\n",
       "      <th>999</th>\n",
       "      <td>năm thì không à cho chị rồi</td>\n",
       "      <td>None</td>\n",
       "    </tr>\n",
       "  </tbody>\n",
       "</table>\n",
       "<p>1000 rows × 2 columns</p>\n",
       "</div>"
      ],
      "text/plain": [
       "                                      sentence Full_Names\n",
       "0                                là dạ ừ là là       None\n",
       "1                là anh mình năm có vâng ơ năm       None\n",
       "2        vầng cho rồi tên anh ơ thì anh bên dạ       None\n",
       "3                            thì ơ à rồi không       None\n",
       "4      tên mình một rồi rồi vầng tên vâng vầng       None\n",
       "..                                         ...        ...\n",
       "995                     có thì năm một năm chị       None\n",
       "996          không anh có ờ bên vầng tên không       None\n",
       "997  bên ờ mình có tên thì không không một cái       None\n",
       "998                có ơ ơ bên vầng ờ không rồi       None\n",
       "999                năm thì không à cho chị rồi       None\n",
       "\n",
       "[1000 rows x 2 columns]"
      ]
     },
     "execution_count": 7,
     "metadata": {},
     "output_type": "execute_result"
    }
   ],
   "source": [
    "import pandas as pd\n",
    "null_df = pd.DataFrame({'sentence': sentences, 'Full_Names': ['None']*len(sentences)})\n",
    "null_df"
   ]
  },
  {
   "cell_type": "code",
   "execution_count": 8,
   "id": "823944ca-5d52-4016-bbfe-b39e1e12100f",
   "metadata": {
    "tags": []
   },
   "outputs": [],
   "source": [
    "null_df.to_csv('./UIT-ViNames-Dataset/UIT-ViNames/Null.csv', index = False)"
   ]
  },
  {
   "cell_type": "code",
   "execution_count": 13,
   "id": "9f6ddc5a-1da4-43b3-8c3a-164209691077",
   "metadata": {
    "tags": []
   },
   "outputs": [],
   "source": [
    "import json"
   ]
  },
  {
   "cell_type": "code",
   "execution_count": 15,
   "id": "97769fc9-21c7-4953-9767-43f1a39f9eda",
   "metadata": {
    "tags": []
   },
   "outputs": [],
   "source": [
    "with open('./UIT-ViNames-Dataset/UIT-ViNames/conversations_27042023.json') as f:\n",
    "    content = json.load(f)"
   ]
  },
  {
   "cell_type": "code",
   "execution_count": 26,
   "id": "68346397-56a0-4263-9f6f-0d172aeaffd2",
   "metadata": {
    "tags": []
   },
   "outputs": [],
   "source": [
    "customer_conversation = []"
   ]
  },
  {
   "cell_type": "code",
   "execution_count": 29,
   "id": "7246f0a7-8f14-4a36-8422-ed7182b4bf94",
   "metadata": {
    "tags": []
   },
   "outputs": [],
   "source": [
    "for id_con in content.keys():\n",
    "    for text in content[id_con]['conversations']:\n",
    "        if text['type'] == 'caller':\n",
    "            customer_conversation.append(text['text'])"
   ]
  },
  {
   "cell_type": "code",
   "execution_count": 30,
   "id": "fed21d71-c281-4ea8-b223-8efefbcabad8",
   "metadata": {
    "tags": []
   },
   "outputs": [
    {
     "data": {
      "text/plain": [
       "24714"
      ]
     },
     "execution_count": 30,
     "metadata": {},
     "output_type": "execute_result"
    }
   ],
   "source": [
    "len(customer_conversation)"
   ]
  },
  {
   "cell_type": "code",
   "execution_count": 31,
   "id": "39b1fd74-4ea1-4b65-a35e-442a34fad70a",
   "metadata": {
    "tags": []
   },
   "outputs": [
    {
     "data": {
      "text/plain": [
       "['À em ơi à a lô',\n",
       " 'A lô em ạ à',\n",
       " 'À à em kiểm tra giùm anh cái a',\n",
       " 'Cái ơ cloud database của anh á',\n",
       " 'Cân nhắc không vào được',\n",
       " 'Ờ anh anh ơ anh cần nhắc bằng à',\n",
       " 'Em thấy khách vô thì nó nó báo là cái nó connec',\n",
       " 'Smart seo',\n",
       " 'À anh anh cứ gởi ơ yêu cầu hỗ trợ đó nhưng mà nãy giờ chưa thấy cập nhật',\n",
       " 'Mã nó tích kịch là bốn năm một bốn không á']"
      ]
     },
     "execution_count": 31,
     "metadata": {},
     "output_type": "execute_result"
    }
   ],
   "source": [
    "customer_conversation[:10]"
   ]
  },
  {
   "cell_type": "code",
   "execution_count": 33,
   "id": "04b4fd58-c7bf-4998-8b35-f0c1978b5e2f",
   "metadata": {
    "tags": []
   },
   "outputs": [
    {
     "data": {
      "text/plain": [
       "['Cần phải biết được gì',\n",
       " 'A lô anh kiên đúng không ạ',\n",
       " 'Anh ơi em ở bên bizfly cloud ấy anh hôm trước em có báo anh và thanh toán dịch vụ trên hệ thống bên em đấy anh',\n",
       " 'Chatbot bên em hông',\n",
       " 'Ờ em thấy anh để lại thông tin là đang muốn tìm hiểu giải pháp bên em ý hiện tại là mình đang kinh doanh về lĩnh vực nào vậy hả anh',\n",
       " 'Em gọi đến cho chị là từ bên bizfly ạ ờ chuyên cung cấp các giải pháp chuyển đổi số cho doanh nghiệp em có nhận được đăng ký của chị loan anh tham dự sự kiện ra mắt trọn bộ giải pháp ci e à smart crm năm chấm không diễn ra vào ngày hai mươi lăm tháng',\n",
       " 'À vầng chị mua là sản phẩm là tích trữ đúng không ạ',\n",
       " 'Ờ em ở bên bizfly cloud anh ạ',\n",
       " 'Đấy cho nên là nó nếu nếu mà cá nhân ý thì nó sẽ hơi quá sức tại vì mình phải lo thứ nhất là ờ thứ nhất là bỏ tiền ra nhiều này thứ hai nữa là ờ ờ mình phải đi thuê hosting server các thứ như bên em thì lo s  n cho khách hàng rồi như web thuê này thì ờ có mẫu s  n',\n",
       " 'Vàng tây thì bây giờ là bao nhiêu tiền một cây hả em']"
      ]
     },
     "execution_count": 33,
     "metadata": {},
     "output_type": "execute_result"
    }
   ],
   "source": [
    "import random\n",
    "\n",
    "sample_sentence = random.sample(customer_conversation, 1000)\n",
    "sample_sentence[:10]"
   ]
  },
  {
   "cell_type": "code",
   "execution_count": 35,
   "id": "8001e370-aacf-465b-8021-fe73ea8e6854",
   "metadata": {
    "tags": []
   },
   "outputs": [],
   "source": [
    "import pandas as pd\n",
    "null_df = pd.DataFrame({'sentence': sample_sentence, 'Full_Names': ['None']*len(sample_sentence)})"
   ]
  },
  {
   "cell_type": "code",
   "execution_count": 37,
   "id": "36877c2a-386b-43e0-b536-d1a99cfe9462",
   "metadata": {
    "tags": []
   },
   "outputs": [],
   "source": [
    "null_df['sentence'] = null_df['sentence'].str.lower()"
   ]
  },
  {
   "cell_type": "code",
   "execution_count": 38,
   "id": "b407ec5e-f28e-41e8-9206-e12802178382",
   "metadata": {
    "tags": []
   },
   "outputs": [
    {
     "data": {
      "text/html": [
       "<div>\n",
       "<style scoped>\n",
       "    .dataframe tbody tr th:only-of-type {\n",
       "        vertical-align: middle;\n",
       "    }\n",
       "\n",
       "    .dataframe tbody tr th {\n",
       "        vertical-align: top;\n",
       "    }\n",
       "\n",
       "    .dataframe thead th {\n",
       "        text-align: right;\n",
       "    }\n",
       "</style>\n",
       "<table border=\"1\" class=\"dataframe\">\n",
       "  <thead>\n",
       "    <tr style=\"text-align: right;\">\n",
       "      <th></th>\n",
       "      <th>sentence</th>\n",
       "      <th>Full_Names</th>\n",
       "    </tr>\n",
       "  </thead>\n",
       "  <tbody>\n",
       "    <tr>\n",
       "      <th>0</th>\n",
       "      <td>cần phải biết được gì</td>\n",
       "      <td>None</td>\n",
       "    </tr>\n",
       "    <tr>\n",
       "      <th>1</th>\n",
       "      <td>a lô anh kiên đúng không ạ</td>\n",
       "      <td>None</td>\n",
       "    </tr>\n",
       "    <tr>\n",
       "      <th>2</th>\n",
       "      <td>anh ơi em ở bên bizfly cloud ấy anh hôm trước ...</td>\n",
       "      <td>None</td>\n",
       "    </tr>\n",
       "    <tr>\n",
       "      <th>3</th>\n",
       "      <td>chatbot bên em hông</td>\n",
       "      <td>None</td>\n",
       "    </tr>\n",
       "    <tr>\n",
       "      <th>4</th>\n",
       "      <td>ờ em thấy anh để lại thông tin là đang muốn tì...</td>\n",
       "      <td>None</td>\n",
       "    </tr>\n",
       "  </tbody>\n",
       "</table>\n",
       "</div>"
      ],
      "text/plain": [
       "                                            sentence Full_Names\n",
       "0                              cần phải biết được gì       None\n",
       "1                         a lô anh kiên đúng không ạ       None\n",
       "2  anh ơi em ở bên bizfly cloud ấy anh hôm trước ...       None\n",
       "3                                chatbot bên em hông       None\n",
       "4  ờ em thấy anh để lại thông tin là đang muốn tì...       None"
      ]
     },
     "execution_count": 38,
     "metadata": {},
     "output_type": "execute_result"
    }
   ],
   "source": [
    "null_df.head()"
   ]
  },
  {
   "cell_type": "code",
   "execution_count": 39,
   "id": "08a7effa-3b66-4d8d-a961-22e06522366b",
   "metadata": {
    "tags": []
   },
   "outputs": [],
   "source": [
    "null_df.to_csv('./UIT-ViNames-Dataset/UIT-ViNames/Null_1.csv', index = False)"
   ]
  },
  {
   "cell_type": "markdown",
   "id": "da48bde4-faf4-455e-840f-3cbb315482a6",
   "metadata": {
    "jp-MarkdownHeadingCollapsed": true,
    "tags": []
   },
   "source": [
    "## Spacy"
   ]
  },
  {
   "cell_type": "code",
   "execution_count": 2,
   "id": "c6f3420c-496f-49ed-97ae-93dfb69a7bd5",
   "metadata": {
    "tags": []
   },
   "outputs": [],
   "source": [
    "# !pip install spacy\n",
    "# !pip install https://github.com/trungtv/vi_spacy/raw/master/packages/vi_spacy_model-0.2.1/dist/vi_spacy_model-0.2.1.tar.gz"
   ]
  },
  {
   "cell_type": "code",
   "execution_count": 12,
   "id": "6d0e36ee-2383-479e-b42c-ea9a439abbcc",
   "metadata": {
    "tags": []
   },
   "outputs": [],
   "source": [
    "# !pip install https://github.com/trungtv/vi_spacy/raw/master/packages/vi_spacy_model-0.2.1/dist/vi_spacy_model-0.2.1.tar.gz"
   ]
  },
  {
   "cell_type": "code",
   "execution_count": 1,
   "id": "4faf78c2-ef96-48aa-9953-46598b9f33ed",
   "metadata": {
    "tags": []
   },
   "outputs": [],
   "source": [
    "# Danh sách các đoạn văn bản\n",
    "texts = [\"tôi tên là nghĩa\", \"tên là tan\", \"nguyễn trung hiếu\"]"
   ]
  },
  {
   "cell_type": "code",
   "execution_count": 9,
   "id": "cec80086-6017-48d0-a487-944cb41291db",
   "metadata": {
    "tags": []
   },
   "outputs": [
    {
     "name": "stdout",
     "output_type": "stream",
     "text": [
      "Đặng Đặng X Np ROOT xxxx True False\n",
      "Trung_Hiếu Trung_Hiếu X Np compound xxxxxxxxxx False False\n"
     ]
    }
   ],
   "source": [
    "import spacy\n",
    "# nlp = spacy.load('vi_spacy_model')\n",
    "doc = nlp('Đặng Trung Hiếu')\n",
    "for token in doc:\n",
    "    print(token.text, token.lemma_, token.pos_, token.tag_, token.dep_,\n",
    "            token.shape_, token.is_alpha, token.is_stop)"
   ]
  },
  {
   "cell_type": "code",
   "execution_count": 10,
   "id": "0242cb1a-49f4-48df-97e0-d8b1c045dce1",
   "metadata": {
    "tags": []
   },
   "outputs": [
    {
     "data": {
      "text/plain": [
       "Đặng Trung_Hiếu"
      ]
     },
     "execution_count": 10,
     "metadata": {},
     "output_type": "execute_result"
    }
   ],
   "source": [
    "doc"
   ]
  },
  {
   "cell_type": "code",
   "execution_count": 11,
   "id": "79075a99-c0db-4343-8ed8-4cbb05b3801f",
   "metadata": {
    "tags": []
   },
   "outputs": [],
   "source": [
    "for word in doc.ents:\n",
    "    print(word.text,word.label_)"
   ]
  },
  {
   "cell_type": "code",
   "execution_count": 9,
   "id": "349f0056-d64f-4237-b9d2-a6fec8cf2475",
   "metadata": {
    "tags": []
   },
   "outputs": [
    {
     "name": "stdout",
     "output_type": "stream",
     "text": [
      "Bách Khoa     Xxxx Xxxx False False\n",
      "Hà Nội     Xx Xxx False False\n"
     ]
    }
   ],
   "source": [
    "for token in doc:\n",
    "    print(token.text, token.lemma_, token.pos_, token.tag_, token.dep_,\n",
    "            token.shape_, token.is_alpha, token.is_stop)"
   ]
  },
  {
   "cell_type": "markdown",
   "id": "dda9dad1-dcbf-4687-b2e6-e2016776041f",
   "metadata": {
    "jp-MarkdownHeadingCollapsed": true,
    "tags": []
   },
   "source": [
    "## NlpHUST/ner-vietnamese-electra-base"
   ]
  },
  {
   "cell_type": "code",
   "execution_count": 14,
   "id": "7f97ec59-4d1f-4d95-87a3-b4e811cc119a",
   "metadata": {
    "tags": []
   },
   "outputs": [
    {
     "name": "stderr",
     "output_type": "stream",
     "text": [
      "The cache for model files in Transformers v4.22.0 has been updated. Migrating your old cache. This is a one-time only operation. You can interrupt this and resume the migration later on by calling `transformers.utils.move_cache()`.\n"
     ]
    },
    {
     "name": "stdout",
     "output_type": "stream",
     "text": [
      "Moving 0 files to the new cache system\n"
     ]
    },
    {
     "data": {
      "application/vnd.jupyter.widget-view+json": {
       "model_id": "88de3b38978248e08ac89a954aee7645",
       "version_major": 2,
       "version_minor": 0
      },
      "text/plain": [
       "0it [00:00, ?it/s]"
      ]
     },
     "metadata": {},
     "output_type": "display_data"
    },
    {
     "data": {
      "application/vnd.jupyter.widget-view+json": {
       "model_id": "b384d344fdf24534be46d8aff328a25e",
       "version_major": 2,
       "version_minor": 0
      },
      "text/plain": [
       "Downloading (…)okenizer_config.json:   0%|          | 0.00/383 [00:00<?, ?B/s]"
      ]
     },
     "metadata": {},
     "output_type": "display_data"
    },
    {
     "data": {
      "application/vnd.jupyter.widget-view+json": {
       "model_id": "1886d1deeb2946a1a1fd0d064edbf3cc",
       "version_major": 2,
       "version_minor": 0
      },
      "text/plain": [
       "Downloading (…)solve/main/vocab.txt:   0%|          | 0.00/411k [00:00<?, ?B/s]"
      ]
     },
     "metadata": {},
     "output_type": "display_data"
    },
    {
     "data": {
      "application/vnd.jupyter.widget-view+json": {
       "model_id": "3240177b4edd45fa84c850cdebc64ba9",
       "version_major": 2,
       "version_minor": 0
      },
      "text/plain": [
       "Downloading (…)/main/tokenizer.json:   0%|          | 0.00/1.40M [00:00<?, ?B/s]"
      ]
     },
     "metadata": {},
     "output_type": "display_data"
    },
    {
     "data": {
      "application/vnd.jupyter.widget-view+json": {
       "model_id": "7e562685083b4dca91ab373444b5f20b",
       "version_major": 2,
       "version_minor": 0
      },
      "text/plain": [
       "Downloading (…)cial_tokens_map.json:   0%|          | 0.00/125 [00:00<?, ?B/s]"
      ]
     },
     "metadata": {},
     "output_type": "display_data"
    },
    {
     "data": {
      "application/vnd.jupyter.widget-view+json": {
       "model_id": "897b79495476483b9678773ee6d660eb",
       "version_major": 2,
       "version_minor": 0
      },
      "text/plain": [
       "Downloading (…)lve/main/config.json:   0%|          | 0.00/1.27k [00:00<?, ?B/s]"
      ]
     },
     "metadata": {},
     "output_type": "display_data"
    },
    {
     "data": {
      "application/vnd.jupyter.widget-view+json": {
       "model_id": "77838d27970d4e87ac50800fedfe90ee",
       "version_major": 2,
       "version_minor": 0
      },
      "text/plain": [
       "Downloading (…)\"pytorch_model.bin\";:   0%|          | 0.00/532M [00:00<?, ?B/s]"
      ]
     },
     "metadata": {},
     "output_type": "display_data"
    },
    {
     "name": "stderr",
     "output_type": "stream",
     "text": [
      "Asking to truncate to max_length but no maximum length is provided and the model has no predefined maximum length. Default to no truncation.\n"
     ]
    },
    {
     "name": "stdout",
     "output_type": "stream",
     "text": [
      "[{'entity': 'B-PERSON', 'score': 0.97615474, 'index': 1, 'word': 'tần', 'start': 0, 'end': 3}, {'entity': 'I-PERSON', 'score': 0.9852959, 'index': 2, 'word': 'lê', 'start': 4, 'end': 6}, {'entity': 'I-PERSON', 'score': 0.8880008, 'index': 3, 'word': 'nghĩa', 'start': 7, 'end': 12}]\n"
     ]
    }
   ],
   "source": [
    "from transformers import AutoTokenizer, AutoModelForTokenClassification\n",
    "from transformers import pipeline\n",
    "\n",
    "tokenizer = AutoTokenizer.from_pretrained(\"NlpHUST/ner-vietnamese-electra-base\")\n",
    "model = AutoModelForTokenClassification.from_pretrained(\"NlpHUST/ner-vietnamese-electra-base\")\n",
    "\n",
    "nlp = pipeline(\"ner\", model=model, tokenizer=tokenizer)\n",
    "example = \"tần lê nghĩa\"\n",
    "ner_results = nlp(example)\n",
    "print(ner_results)"
   ]
  },
  {
   "cell_type": "code",
   "execution_count": 20,
   "id": "540ffe25-d667-4369-a619-4ec3ec77304e",
   "metadata": {
    "tags": []
   },
   "outputs": [
    {
     "data": {
      "text/plain": [
       "False"
      ]
     },
     "execution_count": 20,
     "metadata": {},
     "output_type": "execute_result"
    }
   ],
   "source": [
    "next(model.parameters()).is_cuda"
   ]
  },
  {
   "cell_type": "code",
   "execution_count": 25,
   "id": "f91723e0-34ff-4302-b57f-8641ae90e780",
   "metadata": {
    "tags": []
   },
   "outputs": [],
   "source": [
    "import torch"
   ]
  },
  {
   "cell_type": "code",
   "execution_count": 23,
   "id": "ebab5444-4b7b-49c5-9523-a4e3b01d2074",
   "metadata": {
    "tags": []
   },
   "outputs": [],
   "source": [
    "from transformers import AutoTokenizer, AutoModelForTokenClassification, TokenClassificationPipeline"
   ]
  },
  {
   "cell_type": "code",
   "execution_count": 26,
   "id": "9db33828-6b0d-43d8-b171-3d4ad981baa2",
   "metadata": {
    "tags": []
   },
   "outputs": [
    {
     "name": "stdout",
     "output_type": "stream",
     "text": [
      "[{'entity': 'B-PERSON', 'score': 0.97622186, 'index': 1, 'word': 'tần', 'start': 0, 'end': 3}, {'entity': 'I-PERSON', 'score': 0.98531646, 'index': 2, 'word': 'lê', 'start': 4, 'end': 6}, {'entity': 'I-PERSON', 'score': 0.8881899, 'index': 3, 'word': 'nghĩa', 'start': 7, 'end': 12}]\n"
     ]
    }
   ],
   "source": [
    "class CustomTokenClassificationPipeline(TokenClassificationPipeline):\n",
    "    def __call__(self, *args, **kwargs):\n",
    "        if self.framework == \"pt\" and self.device.type == \"cuda\":\n",
    "            with torch.cuda.device(self.device):\n",
    "                return super().__call__(*args, **kwargs)\n",
    "        return super().__call__(*args, **kwargs)\n",
    "\n",
    "# Tạo NER pipeline\n",
    "nlp = CustomTokenClassificationPipeline(model=model, tokenizer=tokenizer, device=torch.cuda.current_device())\n",
    "\n",
    "example = \"tần lê nghĩa\"\n",
    "ner_results = nlp(example)\n",
    "print(ner_results)"
   ]
  },
  {
   "cell_type": "code",
   "execution_count": 27,
   "id": "321f2dc9-6ed6-4d8b-9f4b-adfd3552c8b5",
   "metadata": {
    "tags": []
   },
   "outputs": [
    {
     "data": {
      "text/plain": [
       "[{'entity': 'B-PERSON',\n",
       "  'score': 0.97622186,\n",
       "  'index': 1,\n",
       "  'word': 'tần',\n",
       "  'start': 0,\n",
       "  'end': 3},\n",
       " {'entity': 'I-PERSON',\n",
       "  'score': 0.98531646,\n",
       "  'index': 2,\n",
       "  'word': 'lê',\n",
       "  'start': 4,\n",
       "  'end': 6},\n",
       " {'entity': 'I-PERSON',\n",
       "  'score': 0.8881899,\n",
       "  'index': 3,\n",
       "  'word': 'nghĩa',\n",
       "  'start': 7,\n",
       "  'end': 12}]"
      ]
     },
     "execution_count": 27,
     "metadata": {},
     "output_type": "execute_result"
    }
   ],
   "source": [
    "ner_results"
   ]
  },
  {
   "cell_type": "code",
   "execution_count": 28,
   "id": "f8b28d2f-c772-4ba0-b36d-5f18d834a188",
   "metadata": {
    "tags": []
   },
   "outputs": [],
   "source": [
    "# !nvidia-smi"
   ]
  },
  {
   "cell_type": "code",
   "execution_count": null,
   "id": "fa1fc5fc-d2d9-4d70-a79c-f84252998b2e",
   "metadata": {},
   "outputs": [],
   "source": []
  }
 ],
 "metadata": {
  "kernelspec": {
   "display_name": "SEO",
   "language": "python",
   "name": "seo"
  },
  "language_info": {
   "codemirror_mode": {
    "name": "ipython",
    "version": 3
   },
   "file_extension": ".py",
   "mimetype": "text/x-python",
   "name": "python",
   "nbconvert_exporter": "python",
   "pygments_lexer": "ipython3",
   "version": "3.8.16"
  }
 },
 "nbformat": 4,
 "nbformat_minor": 5
}
